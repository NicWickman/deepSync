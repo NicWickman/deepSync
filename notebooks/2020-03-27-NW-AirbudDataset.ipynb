{
 "cells": [
  {
   "cell_type": "code",
   "execution_count": 2,
   "metadata": {},
   "outputs": [],
   "source": [
    "import os\n",
    "import warnings\n",
    "\n",
    "import torchaudio\n",
    "from torch.utils.data import Dataset\n",
    "from torchaudio.datasets.utils import download_url, extract_archive, walk_files\n",
    "\n",
    "from ast import literal_eval\n",
    "from pathlib import Path\n",
    "\n",
    "import pandas as pd\n",
    "\n",
    "import torchaudio\n",
    "import torch\n",
    "import fastai\n",
    "import fastai.vision\n",
    "from fastai.basics import *\n",
    "from torchvision import transforms\n",
    "import matplotlib.pyplot as plt"
   ]
  },
  {
   "cell_type": "code",
   "execution_count": 114,
   "metadata": {},
   "outputs": [],
   "source": [
    "\n",
    "\n",
    "data_path = Path('D:/MachineLearning/deepSync/data/')\n",
    "\n",
    "class AirbudDataset(Dataset):\n",
    "    \"\"\"\n",
    "    Create a Dataset for Audio. Each item is a tuple of the form:\n",
    "    (waveform, sample_rate, labels)\n",
    "    \"\"\"\n",
    "\n",
    "    def __init__(\n",
    "        self,\n",
    "        root,\n",
    "        data_path='data',\n",
    "        anim_csv='data2.csv',\n",
    "        audio_ext='.aif',\n",
    "        download=False,\n",
    "        transform=None,\n",
    "        target_transform=None,\n",
    "    ):\n",
    "\n",
    "        self.transform = transform\n",
    "        self.target_transform = target_transform\n",
    "\n",
    "        # archive = os.path.basename(url)\n",
    "        # archive = os.path.join(root, archive)\n",
    "        # self._path = os.path.join(root, folder_in_archive)\n",
    "\n",
    "        # if download:\n",
    "        #     if not os.path.isdir(self._path):\n",
    "        #         if not os.path.isfile(archive):\n",
    "        #             download_url(url, root)\n",
    "        #         extract_archive(archive)\n",
    "\n",
    "        self._audio_path = root/data_path/Path('Audio')\n",
    "        self._anim_path = root/data_path/Path(anim_csv)\n",
    "        self._ext_audio = audio_ext\n",
    "\n",
    "        if not os.path.isdir(self._audio_path):\n",
    "            raise RuntimeError(\n",
    "                \"Dataset not found. Please use `download=True` to download it.\"\n",
    "            )\n",
    "\n",
    "        walker = walk_files(\n",
    "            self._audio_path, suffix=self._ext_audio, prefix=False, remove_suffix=True\n",
    "        )\n",
    "\n",
    "        self._walker = list(walker)\n",
    "        self.df = self._process_df(pd.read_csv(self._anim_path))\n",
    "        \n",
    "\n",
    "    def _process_df(self, df):\n",
    "        def convert_to_list(x):\n",
    "          try:\n",
    "              y = literal_eval(x)\n",
    "              return y\n",
    "          except:\n",
    "              return x\n",
    "        \n",
    "        def convert_floats(x):\n",
    "            if isinstance(x, float):\n",
    "                return [x]\n",
    "            else:\n",
    "                return x\n",
    "\n",
    "        df['jawTrans_ty'] = df['jawTrans_ty'].fillna('0.0')\n",
    "        df['jawTrans_ty'] = df['jawTrans_ty'].apply(lambda x: convert_to_list(x))\n",
    "        df['jawTrans_ty'] = df['jawTrans_ty'].apply(lambda x: convert_floats(x))\n",
    "        return df\n",
    "\n",
    "    def _get_labels(self, fileid):\n",
    "        y_vals = self.df[self.df['Audio File'].str.contains(fileid)]['jawTrans_ty'].values[0]\n",
    "        return y_vals\n",
    "\n",
    "\n",
    "    def _load_audio_item(self, fileid):\n",
    "        # Read label\n",
    "        labels = self._get_labels(fileid)\n",
    "\n",
    "        # Read audio\n",
    "        filepath = str(self._audio_path / Path(fileid)) + self._ext_audio\n",
    "\n",
    "        waveform, sample_rate = torchaudio.load(filepath)\n",
    "\n",
    "        return waveform, sample_rate, labels\n",
    "\n",
    "\n",
    "\n",
    "    def __getitem__(self, n):\n",
    "        fileid = self._walker[n]\n",
    "        item = self._load_audio_item(fileid)\n",
    "\n",
    "        waveform, sample_rate, labels = item\n",
    "        \n",
    "        labels = torch.Tensor(labels).unsqueeze(dim=0)\n",
    "        \n",
    "        if self.transform is not None:\n",
    "            waveform = self.transform(waveform)\n",
    "        if self.target_transform is not None:\n",
    "            labels = self.target_transform(labels)\n",
    "\n",
    "        return waveform, sample_rate, labels\n",
    "\n",
    "    def __len__(self):\n",
    "        return len(self._walker)"
   ]
  },
  {
   "cell_type": "code",
   "execution_count": 124,
   "metadata": {},
   "outputs": [],
   "source": [
    "class PadTrim(object):\n",
    "    \"\"\"Pad/Trim a 1d-Tensor (Signal or Labels)\n",
    "    Args:\n",
    "        tensor (Tensor): Tensor of audio of size (n x c) or (c x n)\n",
    "        max_len (int): Length to which the tensor will be padded\n",
    "        channels_first (bool): Pad for channels first tensors.  Default: `True`\n",
    "    \"\"\"\n",
    "\n",
    "    def __init__(self, max_len, fill_value=0, channels_first=True):\n",
    "        self.max_len = max_len\n",
    "        self.fill_value = fill_value\n",
    "        self.len_dim, self.ch_dim = int(channels_first), int(not channels_first)\n",
    "\n",
    "    def __call__(self, tensor):\n",
    "        \"\"\"\n",
    "        Returns:\n",
    "            Tensor: (c x n) or (n x c)\n",
    "        \"\"\"\n",
    "        assert tensor.size(self.ch_dim) < 128, \\\n",
    "            \"Too many channels ({}) detected, see channels_first param.\".format(tensor.size(self.ch_dim))\n",
    "        if self.max_len > tensor.size(self.len_dim):\n",
    "            padding = [self.max_len - tensor.size(self.len_dim)\n",
    "                       if (i % 2 == 1) and (i // 2 != self.len_dim)\n",
    "                       else 0\n",
    "                       for i in range(4)]\n",
    "            with torch.no_grad():\n",
    "                tensor = torch.nn.functional.pad(tensor, padding, \"constant\", self.fill_value)\n",
    "        elif self.max_len < tensor.size(self.len_dim):\n",
    "            tensor = tensor.narrow(self.len_dim, 0, self.max_len)\n",
    "        return tensor\n",
    "\n",
    "    def __repr__(self):\n",
    "        return self.__class__.__name__ + '(max_len={0})'.format(self.max_len)"
   ]
  },
  {
   "cell_type": "code",
   "execution_count": 133,
   "metadata": {},
   "outputs": [],
   "source": [
    "from torchvision import transforms\n",
    "import torch \n",
    "transform = transforms.Compose([\n",
    "#                                 torchaudio.transforms.AmplitudeToDB(stype='power', top_db=None),\n",
    "#                                 PadTrim(500),\n",
    "                                torchaudio.transforms.Spectrogram(n_fft=400, win_length=None, hop_length=None, pad=0, power=2, normalized=False),\n",
    "                                transforms.ToPILImage(),\n",
    "#                                 transforms.Resize((240,240)),\n",
    "                                transforms.ToTensor()]\n",
    "                               )\n",
    "\n",
    "target_transform = transforms.Compose([\n",
    "                                PadTrim(240)\n",
    "                                ]\n",
    "                               )"
   ]
  },
  {
   "cell_type": "code",
   "execution_count": 134,
   "metadata": {},
   "outputs": [],
   "source": [
    "root = Path('D:\\MachineLearning\\deepSync')\n",
    "dataset = AirbudDataset(root, transform=transform, target_transform=target_transform)"
   ]
  },
  {
   "cell_type": "code",
   "execution_count": 135,
   "metadata": {},
   "outputs": [
    {
     "data": {
      "text/plain": [
       "torch.Size([1, 201, 831])"
      ]
     },
     "execution_count": 135,
     "metadata": {},
     "output_type": "execute_result"
    }
   ],
   "source": [
    "dataset[0][0].shape"
   ]
  },
  {
   "cell_type": "code",
   "execution_count": 136,
   "metadata": {},
   "outputs": [
    {
     "data": {
      "text/plain": [
       "<matplotlib.image.AxesImage at 0x1d556cfac88>"
      ]
     },
     "execution_count": 136,
     "metadata": {},
     "output_type": "execute_result"
    },
    {
     "data": {
      "image/png": "[encoded data removed]",
      "text/plain": [
       "<Figure size 432x288 with 1 Axes>"
      ]
     },
     "metadata": {
      "needs_background": "light"
     },
     "output_type": "display_data"
    }
   ],
   "source": [
    "plt.imshow(dataset[2][0].squeeze())"
   ]
  },
  {
   "cell_type": "code",
   "execution_count": 139,
   "metadata": {},
   "outputs": [],
   "source": [
    "from IPython.display import Audio\n",
    "def show_audio(ad):\n",
    "    sig,sr=ad\n",
    "    display(Audio(data=sig, rate=sr))"
   ]
  },
  {
   "cell_type": "code",
   "execution_count": 140,
   "metadata": {},
   "outputs": [
    {
     "ename": "ValueError",
     "evalue": "Array audio input must be a 1D or 2D array",
     "output_type": "error",
     "traceback": [
      "\u001b[1;31m---------------------------------------------------------------------------\u001b[0m",
      "\u001b[1;31mValueError\u001b[0m                                Traceback (most recent call last)",
      "\u001b[1;32m<ipython-input-140-4a77275e9051>\u001b[0m in \u001b[0;36m<module>\u001b[1;34m\u001b[0m\n\u001b[1;32m----> 1\u001b[1;33m \u001b[0mshow_audio\u001b[0m\u001b[1;33m(\u001b[0m\u001b[1;33m(\u001b[0m\u001b[0mdataset\u001b[0m\u001b[1;33m[\u001b[0m\u001b[1;36m0\u001b[0m\u001b[1;33m]\u001b[0m\u001b[1;33m[\u001b[0m\u001b[1;36m0\u001b[0m\u001b[1;33m]\u001b[0m\u001b[1;33m,\u001b[0m \u001b[0mdataset\u001b[0m\u001b[1;33m[\u001b[0m\u001b[1;36m0\u001b[0m\u001b[1;33m]\u001b[0m\u001b[1;33m[\u001b[0m\u001b[1;36m1\u001b[0m\u001b[1;33m]\u001b[0m\u001b[1;33m)\u001b[0m\u001b[1;33m)\u001b[0m\u001b[1;33m\u001b[0m\u001b[1;33m\u001b[0m\u001b[0m\n\u001b[0m",
      "\u001b[1;32m<ipython-input-139-a83ccd92d334>\u001b[0m in \u001b[0;36mshow_audio\u001b[1;34m(ad)\u001b[0m\n\u001b[0;32m      2\u001b[0m \u001b[1;32mdef\u001b[0m \u001b[0mshow_audio\u001b[0m\u001b[1;33m(\u001b[0m\u001b[0mad\u001b[0m\u001b[1;33m)\u001b[0m\u001b[1;33m:\u001b[0m\u001b[1;33m\u001b[0m\u001b[1;33m\u001b[0m\u001b[0m\n\u001b[0;32m      3\u001b[0m     \u001b[0msig\u001b[0m\u001b[1;33m,\u001b[0m\u001b[0msr\u001b[0m\u001b[1;33m=\u001b[0m\u001b[0mad\u001b[0m\u001b[1;33m\u001b[0m\u001b[1;33m\u001b[0m\u001b[0m\n\u001b[1;32m----> 4\u001b[1;33m     \u001b[0mdisplay\u001b[0m\u001b[1;33m(\u001b[0m\u001b[0mAudio\u001b[0m\u001b[1;33m(\u001b[0m\u001b[0mdata\u001b[0m\u001b[1;33m=\u001b[0m\u001b[0msig\u001b[0m\u001b[1;33m,\u001b[0m \u001b[0mrate\u001b[0m\u001b[1;33m=\u001b[0m\u001b[0msr\u001b[0m\u001b[1;33m)\u001b[0m\u001b[1;33m)\u001b[0m\u001b[1;33m\u001b[0m\u001b[1;33m\u001b[0m\u001b[0m\n\u001b[0m",
      "\u001b[1;32mD:\\Anaconda3\\envs\\fastaiv1\\lib\\site-packages\\IPython\\lib\\display.py\u001b[0m in \u001b[0;36m__init__\u001b[1;34m(self, data, filename, url, embed, rate, autoplay, normalize, element_id)\u001b[0m\n\u001b[0;32m    113\u001b[0m             \u001b[1;32mif\u001b[0m \u001b[0mrate\u001b[0m \u001b[1;32mis\u001b[0m \u001b[1;32mNone\u001b[0m\u001b[1;33m:\u001b[0m\u001b[1;33m\u001b[0m\u001b[1;33m\u001b[0m\u001b[0m\n\u001b[0;32m    114\u001b[0m                 \u001b[1;32mraise\u001b[0m \u001b[0mValueError\u001b[0m\u001b[1;33m(\u001b[0m\u001b[1;34m\"rate must be specified when data is a numpy array or list of audio samples.\"\u001b[0m\u001b[1;33m)\u001b[0m\u001b[1;33m\u001b[0m\u001b[1;33m\u001b[0m\u001b[0m\n\u001b[1;32m--> 115\u001b[1;33m             \u001b[0mself\u001b[0m\u001b[1;33m.\u001b[0m\u001b[0mdata\u001b[0m \u001b[1;33m=\u001b[0m \u001b[0mAudio\u001b[0m\u001b[1;33m.\u001b[0m\u001b[0m_make_wav\u001b[0m\u001b[1;33m(\u001b[0m\u001b[0mdata\u001b[0m\u001b[1;33m,\u001b[0m \u001b[0mrate\u001b[0m\u001b[1;33m,\u001b[0m \u001b[0mnormalize\u001b[0m\u001b[1;33m)\u001b[0m\u001b[1;33m\u001b[0m\u001b[1;33m\u001b[0m\u001b[0m\n\u001b[0m\u001b[0;32m    116\u001b[0m \u001b[1;33m\u001b[0m\u001b[0m\n\u001b[0;32m    117\u001b[0m     \u001b[1;32mdef\u001b[0m \u001b[0mreload\u001b[0m\u001b[1;33m(\u001b[0m\u001b[0mself\u001b[0m\u001b[1;33m)\u001b[0m\u001b[1;33m:\u001b[0m\u001b[1;33m\u001b[0m\u001b[1;33m\u001b[0m\u001b[0m\n",
      "\u001b[1;32mD:\\Anaconda3\\envs\\fastaiv1\\lib\\site-packages\\IPython\\lib\\display.py\u001b[0m in \u001b[0;36m_make_wav\u001b[1;34m(data, rate, normalize)\u001b[0m\n\u001b[0;32m    136\u001b[0m \u001b[1;33m\u001b[0m\u001b[0m\n\u001b[0;32m    137\u001b[0m         \u001b[1;32mtry\u001b[0m\u001b[1;33m:\u001b[0m\u001b[1;33m\u001b[0m\u001b[1;33m\u001b[0m\u001b[0m\n\u001b[1;32m--> 138\u001b[1;33m             \u001b[0mscaled\u001b[0m\u001b[1;33m,\u001b[0m \u001b[0mnchan\u001b[0m \u001b[1;33m=\u001b[0m \u001b[0mAudio\u001b[0m\u001b[1;33m.\u001b[0m\u001b[0m_validate_and_normalize_with_numpy\u001b[0m\u001b[1;33m(\u001b[0m\u001b[0mdata\u001b[0m\u001b[1;33m,\u001b[0m \u001b[0mnormalize\u001b[0m\u001b[1;33m)\u001b[0m\u001b[1;33m\u001b[0m\u001b[1;33m\u001b[0m\u001b[0m\n\u001b[0m\u001b[0;32m    139\u001b[0m         \u001b[1;32mexcept\u001b[0m \u001b[0mImportError\u001b[0m\u001b[1;33m:\u001b[0m\u001b[1;33m\u001b[0m\u001b[1;33m\u001b[0m\u001b[0m\n\u001b[0;32m    140\u001b[0m             \u001b[0mscaled\u001b[0m\u001b[1;33m,\u001b[0m \u001b[0mnchan\u001b[0m \u001b[1;33m=\u001b[0m \u001b[0mAudio\u001b[0m\u001b[1;33m.\u001b[0m\u001b[0m_validate_and_normalize_without_numpy\u001b[0m\u001b[1;33m(\u001b[0m\u001b[0mdata\u001b[0m\u001b[1;33m,\u001b[0m \u001b[0mnormalize\u001b[0m\u001b[1;33m)\u001b[0m\u001b[1;33m\u001b[0m\u001b[1;33m\u001b[0m\u001b[0m\n",
      "\u001b[1;32mD:\\Anaconda3\\envs\\fastaiv1\\lib\\site-packages\\IPython\\lib\\display.py\u001b[0m in \u001b[0;36m_validate_and_normalize_with_numpy\u001b[1;34m(data, normalize)\u001b[0m\n\u001b[0;32m    167\u001b[0m             \u001b[0mdata\u001b[0m \u001b[1;33m=\u001b[0m \u001b[0mdata\u001b[0m\u001b[1;33m.\u001b[0m\u001b[0mT\u001b[0m\u001b[1;33m.\u001b[0m\u001b[0mravel\u001b[0m\u001b[1;33m(\u001b[0m\u001b[1;33m)\u001b[0m\u001b[1;33m\u001b[0m\u001b[1;33m\u001b[0m\u001b[0m\n\u001b[0;32m    168\u001b[0m         \u001b[1;32melse\u001b[0m\u001b[1;33m:\u001b[0m\u001b[1;33m\u001b[0m\u001b[1;33m\u001b[0m\u001b[0m\n\u001b[1;32m--> 169\u001b[1;33m             \u001b[1;32mraise\u001b[0m \u001b[0mValueError\u001b[0m\u001b[1;33m(\u001b[0m\u001b[1;34m'Array audio input must be a 1D or 2D array'\u001b[0m\u001b[1;33m)\u001b[0m\u001b[1;33m\u001b[0m\u001b[1;33m\u001b[0m\u001b[0m\n\u001b[0m\u001b[0;32m    170\u001b[0m \u001b[1;33m\u001b[0m\u001b[0m\n\u001b[0;32m    171\u001b[0m         \u001b[0mmax_abs_value\u001b[0m \u001b[1;33m=\u001b[0m \u001b[0mnp\u001b[0m\u001b[1;33m.\u001b[0m\u001b[0mmax\u001b[0m\u001b[1;33m(\u001b[0m\u001b[0mnp\u001b[0m\u001b[1;33m.\u001b[0m\u001b[0mabs\u001b[0m\u001b[1;33m(\u001b[0m\u001b[0mdata\u001b[0m\u001b[1;33m)\u001b[0m\u001b[1;33m)\u001b[0m\u001b[1;33m\u001b[0m\u001b[1;33m\u001b[0m\u001b[0m\n",
      "\u001b[1;31mValueError\u001b[0m: Array audio input must be a 1D or 2D array"
     ]
    }
   ],
   "source": [
    "show_audio((dataset[0][0], dataset[0][1]))"
   ]
  },
  {
   "cell_type": "code",
   "execution_count": null,
   "metadata": {},
   "outputs": [],
   "source": []
  }
 ],
 "metadata": {
  "kernelspec": {
   "display_name": "Python [conda env:fastaiv1] *",
   "language": "python",
   "name": "conda-env-fastaiv1-py"
  },
  "language_info": {
   "codemirror_mode": {
    "name": "ipython",
    "version": 3
   },
   "file_extension": ".py",
   "mimetype": "text/x-python",
   "name": "python",
   "nbconvert_exporter": "python",
   "pygments_lexer": "ipython3",
   "version": "3.7.4"
  }
 },
 "nbformat": 4,
 "nbformat_minor": 4
}
