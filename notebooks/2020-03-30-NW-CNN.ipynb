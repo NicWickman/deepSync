{
  "nbformat": 4,
  "nbformat_minor": 0,
  "metadata": {
    "kernelspec": {
      "display_name": "Python [conda env:fastaiv1] *",
      "language": "python",
      "name": "conda-env-fastaiv1-py"
    },
    "language_info": {
      "codemirror_mode": {
        "name": "ipython",
        "version": 3
      },
      "file_extension": ".py",
      "mimetype": "text/x-python",
      "name": "python",
      "nbconvert_exporter": "python",
      "pygments_lexer": "ipython3",
      "version": "3.7.4"
    },
    "colab": {
      "name": "Airbud-CNN-Test.ipynb",
      "provenance": [],
      "collapsed_sections": []
    },
    "accelerator": "GPU"
  },
  "cells": [
    {
      "cell_type": "code",
      "metadata": {
        "id": "kWvb-yZ5-JRs",
        "colab_type": "code",
        "outputId": "e239bf1e-219f-41ce-9e9e-561e4cc3bce8",
        "colab": {
          "base_uri": "https://localhost:8080/",
          "height": 52
        }
      },
      "source": [
        "!pip install torchaudio"
      ],
      "execution_count": 0,
      "outputs": [
        {
          "output_type": "stream",
          "text": [
            "Requirement already satisfied: torchaudio in /usr/local/lib/python3.6/dist-packages (0.4.0)\n",
            "Requirement already satisfied: torch==1.4.0 in /usr/local/lib/python3.6/dist-packages (from torchaudio) (1.4.0)\n"
          ],
          "name": "stdout"
        }
      ]
    },
    {
      "cell_type": "code",
      "metadata": {
        "id": "3Uj_qb1x-Mmj",
        "colab_type": "code",
        "outputId": "bbd3992d-3ea5-474b-9446-c1a44db38b7e",
        "colab": {
          "base_uri": "https://localhost:8080/",
          "height": 34
        }
      },
      "source": [
        "from google.colab import drive\n",
        "drive.mount('/content/drive')"
      ],
      "execution_count": 0,
      "outputs": [
        {
          "output_type": "stream",
          "text": [
            "Drive already mounted at /content/drive; to attempt to forcibly remount, call drive.mount(\"/content/drive\", force_remount=True).\n"
          ],
          "name": "stdout"
        }
      ]
    },
    {
      "cell_type": "code",
      "metadata": {
        "id": "2M7RmXAo-FxW",
        "colab_type": "code",
        "colab": {}
      },
      "source": [
        "import os\n",
        "import warnings\n",
        "\n",
        "import torchaudio\n",
        "from torch.utils.data import Dataset\n",
        "from torchaudio.datasets.utils import download_url, extract_archive, walk_files\n",
        "\n",
        "from ast import literal_eval\n",
        "from pathlib import Path\n",
        "\n",
        "import pandas as pd\n",
        "\n",
        "import torchaudio\n",
        "import torch\n",
        "import fastai\n",
        "import fastai.vision\n",
        "from fastai.basics import *\n",
        "from torchvision import transforms\n",
        "import matplotlib.pyplot as plt"
      ],
      "execution_count": 0,
      "outputs": []
    },
    {
      "cell_type": "code",
      "metadata": {
        "id": "JoiFP0pa-Fxb",
        "colab_type": "code",
        "colab": {}
      },
      "source": [
        "\n",
        "\n",
        "data_path = Path('/content/drive/My Drive/deepSync/data')\n",
        "\n",
        "class AirbudDataset(Dataset):\n",
        "    \"\"\"\n",
        "    Create a Dataset for Audio. Each item is a tuple of the form:\n",
        "    (waveform, sample_rate, labels)\n",
        "    \"\"\"\n",
        "\n",
        "    def __init__(\n",
        "        self,\n",
        "        root,\n",
        "        data_path=data_path,\n",
        "        anim_csv='data2.csv',\n",
        "        audio_ext='.aif',\n",
        "        download=False,\n",
        "        transform=None,\n",
        "        target_transform=None,\n",
        "    ):\n",
        "\n",
        "        self.transform = transform\n",
        "        self.target_transform = target_transform\n",
        "\n",
        "        self._audio_path = root/data_path/Path('Audio')\n",
        "        self._anim_path = root/data_path/Path(anim_csv)\n",
        "        self._ext_audio = audio_ext\n",
        "\n",
        "        if not os.path.isdir(self._audio_path):\n",
        "            raise RuntimeError(\n",
        "                \"Dataset not found. Please use `download=True` to download it.\"\n",
        "            )\n",
        "\n",
        "        self.df = self._process_df(pd.read_csv(self._anim_path))\n",
        "\n",
        "        walker = walk_files(\n",
        "            self._audio_path, suffix=self._ext_audio, prefix=False, remove_suffix=True\n",
        "        )\n",
        "\n",
        "        # self._walker = list(walker)\n",
        "        self._walker = [x for x in list(walker) if len(self.df[self.df['Audio File'].str.contains(x)]['jawTrans_ty']) > 0]\n",
        "        \n",
        "\n",
        "    def _process_df(self, df):\n",
        "        def convert_to_list(x):\n",
        "          try:\n",
        "              y = literal_eval(x)\n",
        "              return y\n",
        "          except:\n",
        "              return x\n",
        "        \n",
        "        def convert_floats(x):\n",
        "            if isinstance(x, float):\n",
        "                return [x]\n",
        "            else:\n",
        "                return x\n",
        "\n",
        "        df['jawTrans_ty'] = df['jawTrans_ty'].fillna('0.0')\n",
        "        df['jawTrans_ty'] = df['jawTrans_ty'].apply(lambda x: convert_to_list(x))\n",
        "        df['jawTrans_ty'] = df['jawTrans_ty'].apply(lambda x: convert_floats(x))\n",
        "        return df\n",
        "\n",
        "    def _get_labels(self, fileid):\n",
        "        y_vals = self.df[self.df['Audio File'].str.contains(fileid)]['jawTrans_ty'].values[0]\n",
        "        return y_vals\n",
        "\n",
        "\n",
        "    def _load_audio_item(self, fileid):\n",
        "        # Read label\n",
        "        labels = self._get_labels(fileid)\n",
        "\n",
        "        # Read audio\n",
        "        filepath = str(self._audio_path / Path(fileid)) + self._ext_audio\n",
        "\n",
        "        waveform, sample_rate = torchaudio.load(filepath)\n",
        "\n",
        "        return waveform, sample_rate, labels\n",
        "\n",
        "\n",
        "\n",
        "    def __getitem__(self, n):\n",
        "        fileid = self._walker[n]\n",
        "        item = self._load_audio_item(fileid)\n",
        "\n",
        "        waveform, sample_rate, labels = item\n",
        "        \n",
        "        labels = torch.Tensor(labels).unsqueeze(dim=0)\n",
        "        \n",
        "        if self.transform is not None:\n",
        "            waveform = self.transform(waveform)\n",
        "        if self.target_transform is not None:\n",
        "            labels = self.target_transform(labels)\n",
        "\n",
        "        return waveform, labels\n",
        "\n",
        "    def __len__(self):\n",
        "        return len(self._walker)"
      ],
      "execution_count": 0,
      "outputs": []
    },
    {
      "cell_type": "code",
      "metadata": {
        "id": "eRLHG6TNnxMW",
        "colab_type": "code",
        "colab": {}
      },
      "source": [
        "class PadTrim(object):\n",
        "    \"\"\"Pad/Trim a 1d-Tensor (Signal or Labels)\n",
        "    Args:\n",
        "        tensor (Tensor): Tensor of audio of size (n x c) or (c x n)\n",
        "        max_len (int): Length to which the tensor will be padded\n",
        "        channels_first (bool): Pad for channels first tensors.  Default: `True`\n",
        "    \"\"\"\n",
        "\n",
        "    def __init__(self, max_len, fill_value=0, channels_first=True):\n",
        "        self.max_len = max_len\n",
        "        self.fill_value = fill_value\n",
        "        self.len_dim, self.ch_dim = int(channels_first), int(not channels_first)\n",
        "\n",
        "    def __call__(self, tensor):\n",
        "        \"\"\"\n",
        "        Returns:\n",
        "            Tensor: (c x n) or (n x c)\n",
        "        \"\"\"\n",
        "        assert tensor.size(self.ch_dim) < 128, \\\n",
        "            \"Too many channels ({}) detected, see channels_first param.\".format(tensor.size(self.ch_dim))\n",
        "        if self.max_len > tensor.size(self.len_dim):\n",
        "            padding = [self.max_len - tensor.size(self.len_dim)\n",
        "                       if (i % 2 == 1) and (i // 2 != self.len_dim)\n",
        "                       else 0\n",
        "                       for i in range(4)]\n",
        "            with torch.no_grad():\n",
        "                tensor = torch.nn.functional.pad(tensor, padding, \"constant\", self.fill_value)\n",
        "        elif self.max_len < tensor.size(self.len_dim):\n",
        "            tensor = tensor.narrow(self.len_dim, 0, self.max_len)\n",
        "        return tensor\n",
        "\n",
        "    def __repr__(self):\n",
        "        return self.__class__.__name__ + '(max_len={0})'.format(self.max_len)\n"
      ],
      "execution_count": 0,
      "outputs": []
    },
    {
      "cell_type": "code",
      "metadata": {
        "id": "orclCon5-Fxh",
        "colab_type": "code",
        "colab": {}
      },
      "source": [
        "from torchvision import transforms\n",
        "import torch \n",
        "transform = transforms.Compose([\n",
        "                                PadTrim(480000),\n",
        "                                # torchaudio.transforms.Spectrogram(n_fft=800, win_length=None, hop_length=None, pad=0, power=2, normalized=False),\n",
        "                                torchaudio.transforms.MelSpectrogram(sample_rate=48000, n_fft=2000, win_length=None, hop_length=None, f_min=0.0, f_max=None, pad=10, n_mels=128),\n",
        "                                transforms.ToPILImage(),\n",
        "                                transforms.Resize((480,480)),\n",
        "                                transforms.ToTensor(),\n",
        "                                ]\n",
        "                               )\n",
        "\n",
        "target_transform = transforms.Compose([\n",
        "                                PadTrim(240, channels_first=True)\n",
        "                                ]\n",
        "                               )"
      ],
      "execution_count": 0,
      "outputs": []
    },
    {
      "cell_type": "code",
      "metadata": {
        "id": "L8s1rnRJwPER",
        "colab_type": "code",
        "colab": {}
      },
      "source": [
        ""
      ],
      "execution_count": 0,
      "outputs": []
    },
    {
      "cell_type": "code",
      "metadata": {
        "id": "tGOefUr9-Fxk",
        "colab_type": "code",
        "outputId": "e15e8dd7-e1e8-49b3-9125-a6ee373fc44b",
        "colab": {
          "base_uri": "https://localhost:8080/",
          "height": 72
        }
      },
      "source": [
        "root = Path('/content/drive/My Drive/deepSync')\n",
        "dataset = AirbudDataset(root, transform=transform, target_transform=target_transform)\n",
        "dummy_ds = AirbudDataset(root)"
      ],
      "execution_count": 0,
      "outputs": [
        {
          "output_type": "stream",
          "text": [
            "/usr/local/lib/python3.6/dist-packages/IPython/core/interactiveshell.py:2822: DtypeWarning: Columns (437,438,439,440,442,446,447,448,449,450,451,452,453,454,455,456,457,458,459,460,461,462,463,464,465,466,467,468,469,470,471,472,474,476,482,488,489,490,494,495,496,497,498,499,500,501,502,506,507,511,524,525,529,548,549,550,551,552,553,554,555,556,557,558,559,560,561,562,563,564,565,566,567,568,569,570,571) have mixed types. Specify dtype option on import or set low_memory=False.\n",
            "  if self.run_code(code, result):\n"
          ],
          "name": "stderr"
        }
      ]
    },
    {
      "cell_type": "code",
      "metadata": {
        "id": "_RomNFlJFHxX",
        "colab_type": "code",
        "outputId": "3e65b0c9-8caf-4319-970b-09eda01d4726",
        "colab": {
          "base_uri": "https://localhost:8080/",
          "height": 567
        }
      },
      "source": [
        "idx = 1\n",
        "dataset[idx][0].shape, dataset[idx][1]"
      ],
      "execution_count": 0,
      "outputs": [
        {
          "output_type": "execute_result",
          "data": {
            "text/plain": [
              "(torch.Size([1, 480, 480]),\n",
              " tensor([[ 0.0000,  0.0000,  0.0000,  0.0000,  0.0000,  0.0000,  0.0000,  0.0000,\n",
              "           0.0000,  0.0000,  0.0000,  0.0000,  0.0000,  0.0000,  0.0000,  0.0000,\n",
              "           0.0000,  0.0000,  0.0000,  0.0000,  0.0000,  0.0000,  0.0000,  0.0000,\n",
              "           0.0000,  0.0000,  0.0000,  0.0000,  0.0000,  0.0000,  0.0000,  0.0000,\n",
              "           0.0000,  0.0000,  0.0000,  0.0000,  0.0000,  0.0000,  0.0000,  0.0000,\n",
              "           0.0000,  0.0000,  0.0000,  0.0000,  0.0000,  0.0000,  0.0000,  0.0000,\n",
              "           0.0000,  0.0000,  0.0000,  0.0000,  0.0000,  0.0000,  0.0000,  0.0000,\n",
              "           0.0000,  0.0000, -0.2762, -0.8793, -1.4708, -1.9460, -2.3645, -2.5498,\n",
              "          -2.0461, -1.3184, -0.9753, -0.7582, -0.5970, -0.5339, -0.9380, -1.5768,\n",
              "           0.0000,  0.0000,  0.0000,  0.0000,  0.0000,  0.0000,  0.0000,  0.0000,\n",
              "           0.0000,  0.0000,  0.0000,  0.0000,  0.0000,  0.0000,  0.0000,  0.0000,\n",
              "           0.0000,  0.0000,  0.0000,  0.0000,  0.0000,  0.0000,  0.0000,  0.0000,\n",
              "           0.0000,  0.0000,  0.0000,  0.0000,  0.0000,  0.0000,  0.0000,  0.0000,\n",
              "           0.0000,  0.0000,  0.0000,  0.0000,  0.0000,  0.0000,  0.0000,  0.0000,\n",
              "           0.0000,  0.0000,  0.0000,  0.0000,  0.0000,  0.0000,  0.0000,  0.0000,\n",
              "           0.0000,  0.0000,  0.0000,  0.0000,  0.0000,  0.0000,  0.0000,  0.0000,\n",
              "           0.0000,  0.0000,  0.0000,  0.0000,  0.0000,  0.0000,  0.0000,  0.0000,\n",
              "           0.0000,  0.0000,  0.0000,  0.0000,  0.0000,  0.0000,  0.0000,  0.0000,\n",
              "           0.0000,  0.0000,  0.0000,  0.0000,  0.0000,  0.0000,  0.0000,  0.0000,\n",
              "           0.0000,  0.0000,  0.0000,  0.0000,  0.0000,  0.0000,  0.0000,  0.0000,\n",
              "           0.0000,  0.0000,  0.0000,  0.0000,  0.0000,  0.0000,  0.0000,  0.0000,\n",
              "           0.0000,  0.0000,  0.0000,  0.0000,  0.0000,  0.0000,  0.0000,  0.0000,\n",
              "           0.0000,  0.0000,  0.0000,  0.0000,  0.0000,  0.0000,  0.0000,  0.0000,\n",
              "           0.0000,  0.0000,  0.0000,  0.0000,  0.0000,  0.0000,  0.0000,  0.0000,\n",
              "           0.0000,  0.0000,  0.0000,  0.0000,  0.0000,  0.0000,  0.0000,  0.0000,\n",
              "           0.0000,  0.0000,  0.0000,  0.0000,  0.0000,  0.0000,  0.0000,  0.0000,\n",
              "           0.0000,  0.0000,  0.0000,  0.0000,  0.0000,  0.0000,  0.0000,  0.0000,\n",
              "           0.0000,  0.0000,  0.0000,  0.0000,  0.0000,  0.0000,  0.0000,  0.0000,\n",
              "           0.0000,  0.0000,  0.0000,  0.0000,  0.0000,  0.0000,  0.0000,  0.0000,\n",
              "           0.0000,  0.0000,  0.0000,  0.0000,  0.0000,  0.0000,  0.0000,  0.0000]]))"
            ]
          },
          "metadata": {
            "tags": []
          },
          "execution_count": 8
        }
      ]
    },
    {
      "cell_type": "code",
      "metadata": {
        "id": "f4h-M7HG-Fxn",
        "colab_type": "code",
        "outputId": "18194ffc-17d9-46d8-fd80-d6814ad006c9",
        "colab": {
          "base_uri": "https://localhost:8080/",
          "height": 34
        }
      },
      "source": [
        "dataset[idx][1].shape"
      ],
      "execution_count": 0,
      "outputs": [
        {
          "output_type": "execute_result",
          "data": {
            "text/plain": [
              "torch.Size([1, 240])"
            ]
          },
          "metadata": {
            "tags": []
          },
          "execution_count": 9
        }
      ]
    },
    {
      "cell_type": "code",
      "metadata": {
        "id": "Pp7w1GZ7-Fxr",
        "colab_type": "code",
        "outputId": "4d927218-f185-46fb-f244-1d47e65a986d",
        "colab": {
          "base_uri": "https://localhost:8080/",
          "height": 286
        }
      },
      "source": [
        "plt.imshow(dataset[idx][0].squeeze())"
      ],
      "execution_count": 0,
      "outputs": [
        {
          "output_type": "execute_result",
          "data": {
            "text/plain": [
              "<matplotlib.image.AxesImage at 0x7fc3edd059e8>"
            ]
          },
          "metadata": {
            "tags": []
          },
          "execution_count": 10
        },
        {
          "output_type": "display_data",
          "data": {
            "image/png": "[encoded data removed]",
            "text/plain": [
              "<Figure size 432x288 with 1 Axes>"
            ]
          },
          "metadata": {
            "tags": []
          }
        }
      ]
    },
    {
      "cell_type": "code",
      "metadata": {
        "id": "yUhhQqJt-0EH",
        "colab_type": "code",
        "colab": {}
      },
      "source": [
        "# from IPython.display import Audio\n",
        "# af = dummy_ds[idx]\n",
        "# Audio(data=af[0],rate=af[1])"
      ],
      "execution_count": 0,
      "outputs": []
    },
    {
      "cell_type": "code",
      "metadata": {
        "id": "R95oXL_KDEQV",
        "colab_type": "code",
        "outputId": "81309080-828b-411e-9fcf-de7dbcb4e357",
        "colab": {
          "base_uri": "https://localhost:8080/",
          "height": 72
        }
      },
      "source": [
        "audio_dataset = AirbudDataset('.', download=True, transform=transform, target_transform=target_transform)\n",
        "# len(audio_dataset)\n",
        "train_set, valid_set = torch.utils.data.random_split(audio_dataset, [4000, 533])\n",
        "train_set.c = 240\n",
        "valid_set.c = 240\n",
        "\n",
        "bs = 4\n",
        "\n",
        "train_loader = torch.utils.data.DataLoader(train_set,\n",
        "                                          batch_size=bs,\n",
        "                                          shuffle=True,\n",
        "                                          num_workers=0)\n",
        "\n",
        "valid_loader = torch.utils.data.DataLoader(valid_set,\n",
        "                                          batch_size=bs,\n",
        "                                          shuffle=True,\n",
        "                                          num_workers=0)"
      ],
      "execution_count": 0,
      "outputs": [
        {
          "output_type": "stream",
          "text": [
            "/usr/local/lib/python3.6/dist-packages/IPython/core/interactiveshell.py:2822: DtypeWarning: Columns (437,438,439,440,442,446,447,448,449,450,451,452,453,454,455,456,457,458,459,460,461,462,463,464,465,466,467,468,469,470,471,472,474,476,482,488,489,490,494,495,496,497,498,499,500,501,502,506,507,511,524,525,529,548,549,550,551,552,553,554,555,556,557,558,559,560,561,562,563,564,565,566,567,568,569,570,571) have mixed types. Specify dtype option on import or set low_memory=False.\n",
            "  if self.run_code(code, result):\n"
          ],
          "name": "stderr"
        }
      ]
    },
    {
      "cell_type": "code",
      "metadata": {
        "id": "sMDpCxsn-Fx-",
        "colab_type": "code",
        "outputId": "215f7599-4d33-402a-f5f0-3f63def72ca1",
        "colab": {
          "base_uri": "https://localhost:8080/",
          "height": 34
        }
      },
      "source": [
        "idx = 0\n",
        "audio_dataset[idx][0].shape, audio_dataset[idx][1].shape"
      ],
      "execution_count": 0,
      "outputs": [
        {
          "output_type": "execute_result",
          "data": {
            "text/plain": [
              "(torch.Size([1, 480, 480]), torch.Size([1, 240]))"
            ]
          },
          "metadata": {
            "tags": []
          },
          "execution_count": 15
        }
      ]
    },
    {
      "cell_type": "code",
      "metadata": {
        "id": "6SqEAfBOBp8u",
        "colab_type": "code",
        "colab": {}
      },
      "source": [
        "db = fastai.basic_data.DataBunch(train_loader, valid_loader)"
      ],
      "execution_count": 0,
      "outputs": []
    },
    {
      "cell_type": "code",
      "metadata": {
        "id": "dFA8NNZ8Bp_H",
        "colab_type": "code",
        "colab": {}
      },
      "source": [
        "from torch import nn\n",
        "from functools import partial\n",
        "\n",
        "criterion = torch.nn.MSELoss()\n",
        "# optimizer = optim.SGD(net.parameters(), lr=0.01, momentum=0.9)\n",
        "\n",
        "arch = fastai.vision.models.resnet152\n",
        "\n",
        "# head = nn.Sequential(nn.Linear(8, 8), nn.Sigmoid())\n",
        "\n",
        "f_beta = partial(fastai.metrics.fbeta, thresh=0.5, sigmoid=True)\n",
        "\n",
        "learner = fastai.vision.cnn_learner(db, base_arch=arch, pretrained=True, loss_func=criterion)\n",
        "\n",
        "learner.model[0][0] = nn.Conv1d(1, 64, (7, 7), (2, 2), (3, 3), bias=False).cuda()\n",
        "learner.model"
      ],
      "execution_count": 0,
      "outputs": []
    },
    {
      "cell_type": "code",
      "metadata": {
        "id": "ADgAtDKmBqBT",
        "colab_type": "code",
        "outputId": "ae5fef64-66c2-4a94-8f37-9b5f3689dbb9",
        "colab": {
          "base_uri": "https://localhost:8080/",
          "height": 428
        }
      },
      "source": [
        "learner.lr_find()\n",
        "learner.recorder.plot()"
      ],
      "execution_count": 0,
      "outputs": [
        {
          "output_type": "display_data",
          "data": {
            "text/html": [
              "\n",
              "    <div>\n",
              "        <style>\n",
              "            /* Turns off some styling */\n",
              "            progress {\n",
              "                /* gets rid of default border in Firefox and Opera. */\n",
              "                border: none;\n",
              "                /* Needs to be in here for Safari polyfill so background images work as expected. */\n",
              "                background-size: auto;\n",
              "            }\n",
              "            .progress-bar-interrupted, .progress-bar-interrupted::-webkit-progress-bar {\n",
              "                background: #F44336;\n",
              "            }\n",
              "        </style>\n",
              "      <progress value='0' class='' max='1', style='width:300px; height:20px; vertical-align: middle;'></progress>\n",
              "      0.00% [0/1 00:00<00:00]\n",
              "    </div>\n",
              "    \n",
              "<table border=\"1\" class=\"dataframe\">\n",
              "  <thead>\n",
              "    <tr style=\"text-align: left;\">\n",
              "      <th>epoch</th>\n",
              "      <th>train_loss</th>\n",
              "      <th>valid_loss</th>\n",
              "      <th>time</th>\n",
              "    </tr>\n",
              "  </thead>\n",
              "  <tbody>\n",
              "  </tbody>\n",
              "</table><p>\n",
              "\n",
              "    <div>\n",
              "        <style>\n",
              "            /* Turns off some styling */\n",
              "            progress {\n",
              "                /* gets rid of default border in Firefox and Opera. */\n",
              "                border: none;\n",
              "                /* Needs to be in here for Safari polyfill so background images work as expected. */\n",
              "                background-size: auto;\n",
              "            }\n",
              "            .progress-bar-interrupted, .progress-bar-interrupted::-webkit-progress-bar {\n",
              "                background: #F44336;\n",
              "            }\n",
              "        </style>\n",
              "      <progress value='86' class='' max='1000', style='width:300px; height:20px; vertical-align: middle;'></progress>\n",
              "      8.60% [86/1000 04:25<47:05 11.3728]\n",
              "    </div>\n",
              "    "
            ],
            "text/plain": [
              "<IPython.core.display.HTML object>"
            ]
          },
          "metadata": {
            "tags": []
          }
        },
        {
          "output_type": "stream",
          "text": [
            "/usr/local/lib/python3.6/dist-packages/torch/nn/modules/loss.py:431: UserWarning: Using a target size (torch.Size([4, 1, 240])) that is different to the input size (torch.Size([4, 240])). This will likely lead to incorrect results due to broadcasting. Please ensure they have the same size.\n",
            "  return F.mse_loss(input, target, reduction=self.reduction)\n"
          ],
          "name": "stderr"
        },
        {
          "output_type": "stream",
          "text": [
            "LR Finder is complete, type {learner_name}.recorder.plot() to see the graph.\n"
          ],
          "name": "stdout"
        },
        {
          "output_type": "display_data",
          "data": {
            "image/png": "[encoded data removed]",
            "text/plain": [
              "<Figure size 432x288 with 1 Axes>"
            ]
          },
          "metadata": {
            "tags": []
          }
        }
      ]
    },
    {
      "cell_type": "code",
      "metadata": {
        "id": "RDp_-g-tb89g",
        "colab_type": "code",
        "colab": {}
      },
      "source": [
        "learner.save('CNN-stage-0')"
      ],
      "execution_count": 0,
      "outputs": []
    },
    {
      "cell_type": "code",
      "metadata": {
        "id": "WAl1-_1Tf0xu",
        "colab_type": "code",
        "colab": {}
      },
      "source": [
        "learner.load('CNN-stage-0')"
      ],
      "execution_count": 0,
      "outputs": []
    },
    {
      "cell_type": "code",
      "metadata": {
        "id": "z2TueCfGf2-v",
        "colab_type": "code",
        "outputId": "7200bec1-e73c-4b23-d0de-33486512dbc8",
        "colab": {
          "base_uri": "https://localhost:8080/",
          "height": 168
        }
      },
      "source": [
        "learner.fit_one_cycle(1, 1e-3)"
      ],
      "execution_count": 0,
      "outputs": [
        {
          "output_type": "display_data",
          "data": {
            "text/html": [
              "<table border=\"1\" class=\"dataframe\">\n",
              "  <thead>\n",
              "    <tr style=\"text-align: left;\">\n",
              "      <th>epoch</th>\n",
              "      <th>train_loss</th>\n",
              "      <th>valid_loss</th>\n",
              "      <th>time</th>\n",
              "    </tr>\n",
              "  </thead>\n",
              "  <tbody>\n",
              "    <tr>\n",
              "      <td>0</td>\n",
              "      <td>1.402443</td>\n",
              "      <td>1.128601</td>\n",
              "      <td>53:04</td>\n",
              "    </tr>\n",
              "  </tbody>\n",
              "</table>"
            ],
            "text/plain": [
              "<IPython.core.display.HTML object>"
            ]
          },
          "metadata": {
            "tags": []
          }
        },
        {
          "output_type": "stream",
          "text": [
            "/usr/local/lib/python3.6/dist-packages/torch/nn/modules/loss.py:431: UserWarning: Using a target size (torch.Size([4, 1, 240])) that is different to the input size (torch.Size([4, 240])). This will likely lead to incorrect results due to broadcasting. Please ensure they have the same size.\n",
            "  return F.mse_loss(input, target, reduction=self.reduction)\n",
            "/usr/local/lib/python3.6/dist-packages/torch/nn/modules/loss.py:431: UserWarning: Using a target size (torch.Size([1, 1, 240])) that is different to the input size (torch.Size([1, 240])). This will likely lead to incorrect results due to broadcasting. Please ensure they have the same size.\n",
            "  return F.mse_loss(input, target, reduction=self.reduction)\n"
          ],
          "name": "stderr"
        }
      ]
    },
    {
      "cell_type": "code",
      "metadata": {
        "id": "wnq2dTMLf9dv",
        "colab_type": "code",
        "outputId": "0ca60f10-7ab0-44d0-e573-18665785dee9",
        "colab": {
          "base_uri": "https://localhost:8080/",
          "height": 288
        }
      },
      "source": [
        "learner.fit_one_cycle(5, 1e-4)"
      ],
      "execution_count": 0,
      "outputs": [
        {
          "output_type": "display_data",
          "data": {
            "text/html": [
              "<table border=\"1\" class=\"dataframe\">\n",
              "  <thead>\n",
              "    <tr style=\"text-align: left;\">\n",
              "      <th>epoch</th>\n",
              "      <th>train_loss</th>\n",
              "      <th>valid_loss</th>\n",
              "      <th>time</th>\n",
              "    </tr>\n",
              "  </thead>\n",
              "  <tbody>\n",
              "    <tr>\n",
              "      <td>0</td>\n",
              "      <td>1.564377</td>\n",
              "      <td>1.126548</td>\n",
              "      <td>08:56</td>\n",
              "    </tr>\n",
              "    <tr>\n",
              "      <td>1</td>\n",
              "      <td>1.105507</td>\n",
              "      <td>1.120202</td>\n",
              "      <td>08:54</td>\n",
              "    </tr>\n",
              "    <tr>\n",
              "      <td>2</td>\n",
              "      <td>1.206186</td>\n",
              "      <td>1.110048</td>\n",
              "      <td>08:53</td>\n",
              "    </tr>\n",
              "    <tr>\n",
              "      <td>3</td>\n",
              "      <td>1.021633</td>\n",
              "      <td>1.108713</td>\n",
              "      <td>08:54</td>\n",
              "    </tr>\n",
              "    <tr>\n",
              "      <td>4</td>\n",
              "      <td>1.179411</td>\n",
              "      <td>1.109269</td>\n",
              "      <td>08:57</td>\n",
              "    </tr>\n",
              "  </tbody>\n",
              "</table>"
            ],
            "text/plain": [
              "<IPython.core.display.HTML object>"
            ]
          },
          "metadata": {
            "tags": []
          }
        },
        {
          "output_type": "stream",
          "text": [
            "/usr/local/lib/python3.6/dist-packages/torch/nn/modules/loss.py:431: UserWarning: Using a target size (torch.Size([4, 1, 240])) that is different to the input size (torch.Size([4, 240])). This will likely lead to incorrect results due to broadcasting. Please ensure they have the same size.\n",
            "  return F.mse_loss(input, target, reduction=self.reduction)\n",
            "/usr/local/lib/python3.6/dist-packages/torch/nn/modules/loss.py:431: UserWarning: Using a target size (torch.Size([1, 1, 240])) that is different to the input size (torch.Size([1, 240])). This will likely lead to incorrect results due to broadcasting. Please ensure they have the same size.\n",
            "  return F.mse_loss(input, target, reduction=self.reduction)\n"
          ],
          "name": "stderr"
        }
      ]
    },
    {
      "cell_type": "code",
      "metadata": {
        "id": "CbSz3fo2uiDj",
        "colab_type": "code",
        "colab": {}
      },
      "source": [
        "learner.save('CNN-stage-1')"
      ],
      "execution_count": 0,
      "outputs": []
    },
    {
      "cell_type": "code",
      "metadata": {
        "id": "tcqyGSuW6TOx",
        "colab_type": "code",
        "colab": {}
      },
      "source": [
        "learner.unfreeze()"
      ],
      "execution_count": 0,
      "outputs": []
    },
    {
      "cell_type": "code",
      "metadata": {
        "id": "LdOKSJ7F66np",
        "colab_type": "code",
        "outputId": "3df19447-3a0f-4e97-d68c-3057ddee7eb5",
        "colab": {
          "base_uri": "https://localhost:8080/",
          "height": 428
        }
      },
      "source": [
        "learner.lr_find()\n",
        "learner.recorder.plot()"
      ],
      "execution_count": 0,
      "outputs": [
        {
          "output_type": "display_data",
          "data": {
            "text/html": [
              "\n",
              "    <div>\n",
              "        <style>\n",
              "            /* Turns off some styling */\n",
              "            progress {\n",
              "                /* gets rid of default border in Firefox and Opera. */\n",
              "                border: none;\n",
              "                /* Needs to be in here for Safari polyfill so background images work as expected. */\n",
              "                background-size: auto;\n",
              "            }\n",
              "            .progress-bar-interrupted, .progress-bar-interrupted::-webkit-progress-bar {\n",
              "                background: #F44336;\n",
              "            }\n",
              "        </style>\n",
              "      <progress value='0' class='' max='1', style='width:300px; height:20px; vertical-align: middle;'></progress>\n",
              "      0.00% [0/1 00:00<00:00]\n",
              "    </div>\n",
              "    \n",
              "<table border=\"1\" class=\"dataframe\">\n",
              "  <thead>\n",
              "    <tr style=\"text-align: left;\">\n",
              "      <th>epoch</th>\n",
              "      <th>train_loss</th>\n",
              "      <th>valid_loss</th>\n",
              "      <th>time</th>\n",
              "    </tr>\n",
              "  </thead>\n",
              "  <tbody>\n",
              "  </tbody>\n",
              "</table><p>\n",
              "\n",
              "    <div>\n",
              "        <style>\n",
              "            /* Turns off some styling */\n",
              "            progress {\n",
              "                /* gets rid of default border in Firefox and Opera. */\n",
              "                border: none;\n",
              "                /* Needs to be in here for Safari polyfill so background images work as expected. */\n",
              "                background-size: auto;\n",
              "            }\n",
              "            .progress-bar-interrupted, .progress-bar-interrupted::-webkit-progress-bar {\n",
              "                background: #F44336;\n",
              "            }\n",
              "        </style>\n",
              "      <progress value='77' class='' max='1000', style='width:300px; height:20px; vertical-align: middle;'></progress>\n",
              "      7.70% [77/1000 00:52<10:28 1.7718]\n",
              "    </div>\n",
              "    "
            ],
            "text/plain": [
              "<IPython.core.display.HTML object>"
            ]
          },
          "metadata": {
            "tags": []
          }
        },
        {
          "output_type": "stream",
          "text": [
            "/usr/local/lib/python3.6/dist-packages/torch/nn/modules/loss.py:431: UserWarning: Using a target size (torch.Size([4, 1, 240])) that is different to the input size (torch.Size([4, 240])). This will likely lead to incorrect results due to broadcasting. Please ensure they have the same size.\n",
            "  return F.mse_loss(input, target, reduction=self.reduction)\n"
          ],
          "name": "stderr"
        },
        {
          "output_type": "stream",
          "text": [
            "LR Finder is complete, type {learner_name}.recorder.plot() to see the graph.\n"
          ],
          "name": "stdout"
        },
        {
          "output_type": "display_data",
          "data": {
            "image/png": "[encoded data removed]",
            "text/plain": [
              "<Figure size 432x288 with 1 Axes>"
            ]
          },
          "metadata": {
            "tags": []
          }
        }
      ]
    },
    {
      "cell_type": "code",
      "metadata": {
        "id": "uH33NmJU68XB",
        "colab_type": "code",
        "outputId": "93ee7e99-6863-4fd3-d185-1bd98fefac5f",
        "colab": {
          "base_uri": "https://localhost:8080/",
          "height": 288
        }
      },
      "source": [
        "learner.fit_one_cycle(5, 1e-4)"
      ],
      "execution_count": 0,
      "outputs": [
        {
          "output_type": "display_data",
          "data": {
            "text/html": [
              "<table border=\"1\" class=\"dataframe\">\n",
              "  <thead>\n",
              "    <tr style=\"text-align: left;\">\n",
              "      <th>epoch</th>\n",
              "      <th>train_loss</th>\n",
              "      <th>valid_loss</th>\n",
              "      <th>time</th>\n",
              "    </tr>\n",
              "  </thead>\n",
              "  <tbody>\n",
              "    <tr>\n",
              "      <td>0</td>\n",
              "      <td>1.097089</td>\n",
              "      <td>1.116765</td>\n",
              "      <td>11:42</td>\n",
              "    </tr>\n",
              "    <tr>\n",
              "      <td>1</td>\n",
              "      <td>1.134120</td>\n",
              "      <td>1.110853</td>\n",
              "      <td>11:42</td>\n",
              "    </tr>\n",
              "    <tr>\n",
              "      <td>2</td>\n",
              "      <td>1.176181</td>\n",
              "      <td>1.109251</td>\n",
              "      <td>11:36</td>\n",
              "    </tr>\n",
              "    <tr>\n",
              "      <td>3</td>\n",
              "      <td>1.094763</td>\n",
              "      <td>1.113056</td>\n",
              "      <td>11:28</td>\n",
              "    </tr>\n",
              "    <tr>\n",
              "      <td>4</td>\n",
              "      <td>0.980376</td>\n",
              "      <td>1.108008</td>\n",
              "      <td>11:23</td>\n",
              "    </tr>\n",
              "  </tbody>\n",
              "</table>"
            ],
            "text/plain": [
              "<IPython.core.display.HTML object>"
            ]
          },
          "metadata": {
            "tags": []
          }
        },
        {
          "output_type": "stream",
          "text": [
            "/usr/local/lib/python3.6/dist-packages/torch/nn/modules/loss.py:431: UserWarning: Using a target size (torch.Size([4, 1, 240])) that is different to the input size (torch.Size([4, 240])). This will likely lead to incorrect results due to broadcasting. Please ensure they have the same size.\n",
            "  return F.mse_loss(input, target, reduction=self.reduction)\n",
            "/usr/local/lib/python3.6/dist-packages/torch/nn/modules/loss.py:431: UserWarning: Using a target size (torch.Size([1, 1, 240])) that is different to the input size (torch.Size([1, 240])). This will likely lead to incorrect results due to broadcasting. Please ensure they have the same size.\n",
            "  return F.mse_loss(input, target, reduction=self.reduction)\n"
          ],
          "name": "stderr"
        }
      ]
    },
    {
      "cell_type": "code",
      "metadata": {
        "id": "txjry9jY75IB",
        "colab_type": "code",
        "outputId": "b49377ef-5e5a-4282-eab3-8d95325e8174",
        "colab": {
          "base_uri": "https://localhost:8080/",
          "height": 478
        }
      },
      "source": [
        "preds = learner.get_preds()"
      ],
      "execution_count": 0,
      "outputs": [
        {
          "output_type": "display_data",
          "data": {
            "text/html": [
              ""
            ],
            "text/plain": [
              "<IPython.core.display.HTML object>"
            ]
          },
          "metadata": {
            "tags": []
          }
        },
        {
          "output_type": "execute_result",
          "data": {
            "text/plain": [
              "[tensor([[-2.7426e-01, -2.9477e-01, -3.3395e-01,  ..., -1.0381e-02,\n",
              "          -4.9118e-03, -7.7882e-03],\n",
              "         [-2.8422e-01, -3.0487e-01, -3.2117e-01,  ..., -1.2937e-02,\n",
              "          -2.9208e-03, -1.5133e-02],\n",
              "         [-2.7466e-01, -3.0623e-01, -3.2603e-01,  ..., -9.4418e-03,\n",
              "          -1.5483e-02, -1.3479e-02],\n",
              "         ...,\n",
              "         [-7.8645e-01, -6.5779e-01, -4.6792e-01,  ..., -2.0399e-02,\n",
              "          -2.7818e-01, -1.2438e-01],\n",
              "         [-2.9172e-01, -2.9175e-01, -3.2980e-01,  ..., -1.0059e-02,\n",
              "          -6.4985e-03,  7.2787e-04],\n",
              "         [-2.7759e-01, -3.2292e-01, -3.3937e-01,  ..., -1.2831e-02,\n",
              "          -1.2117e-02, -2.0695e-02]]),\n",
              " tensor([[[-0.2323, -0.2323, -0.2323,  ...,  0.0000,  0.0000,  0.0000]],\n",
              " \n",
              "         [[ 0.0000,  0.0000,  0.0000,  ...,  0.0000,  0.0000,  0.0000]],\n",
              " \n",
              "         [[ 0.0000,  0.0000,  0.0000,  ...,  0.0000,  0.0000,  0.0000]],\n",
              " \n",
              "         ...,\n",
              " \n",
              "         [[ 0.0000,  0.0000,  0.0464,  ...,  0.0000,  0.0000,  0.0000]],\n",
              " \n",
              "         [[ 0.0000,  0.0000,  0.0000,  ...,  0.0000,  0.0000,  0.0000]],\n",
              " \n",
              "         [[ 0.0000,  0.0000,  0.0388,  ...,  0.0000,  0.0000,  0.0000]]])]"
            ]
          },
          "metadata": {
            "tags": []
          },
          "execution_count": 32
        }
      ]
    },
    {
      "cell_type": "code",
      "metadata": {
        "id": "Xnk528agK-uo",
        "colab_type": "code",
        "outputId": "b7918a70-8ee9-47fc-cce2-9fb4dd12f9a6",
        "colab": {
          "base_uri": "https://localhost:8080/",
          "height": 34
        }
      },
      "source": [
        "len(preds)"
      ],
      "execution_count": 0,
      "outputs": [
        {
          "output_type": "execute_result",
          "data": {
            "text/plain": [
              "2"
            ]
          },
          "metadata": {
            "tags": []
          },
          "execution_count": 36
        }
      ]
    },
    {
      "cell_type": "code",
      "metadata": {
        "id": "foglL-cwJoxm",
        "colab_type": "code",
        "outputId": "419898cb-b342-419e-e2a0-049e9ef56fbd",
        "colab": {
          "base_uri": "https://localhost:8080/",
          "height": 355
        }
      },
      "source": [
        "import matplotlib.pyplot as plt\n",
        "x = preds[0].numpy()\n",
        "y = preds[1].numpy().squeeze(1)\n",
        "\n",
        "idx = 5\n",
        "plt.plot(x[idx])\n",
        "plt.plot(y[idx])"
      ],
      "execution_count": 0,
      "outputs": [
        {
          "output_type": "execute_result",
          "data": {
            "text/plain": [
              "[<matplotlib.lines.Line2D at 0x7fc3eb128240>]"
            ]
          },
          "metadata": {
            "tags": []
          },
          "execution_count": 55
        },
        {
          "output_type": "display_data",
          "data": {
            "image/png": "[encoded data removed]",
            "text/plain": [
              "<Figure size 720x360 with 1 Axes>"
            ]
          },
          "metadata": {
            "tags": []
          }
        }
      ]
    }
  ]
}